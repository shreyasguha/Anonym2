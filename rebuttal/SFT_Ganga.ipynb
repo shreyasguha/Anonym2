{
 "cells": [
  {
   "cell_type": "code",
   "execution_count": 1,
   "id": "7b1ca39a-35bb-494e-81cb-b92c0793bad1",
   "metadata": {},
   "outputs": [
    {
     "data": {
      "application/vnd.jupyter.widget-view+json": {
       "model_id": "f5ad7ec5ad4e4beea4d83019bf8dc98a",
       "version_major": 2,
       "version_minor": 0
      },
      "text/plain": [
       "Map:   0%|          | 0/2506 [00:00<?, ? examples/s]"
      ]
     },
     "metadata": {},
     "output_type": "display_data"
    },
    {
     "data": {
      "application/vnd.jupyter.widget-view+json": {
       "model_id": "2334de29b2a847dfb4f1aa5fd7900d79",
       "version_major": 2,
       "version_minor": 0
      },
      "text/plain": [
       "Map:   0%|          | 0/313 [00:00<?, ? examples/s]"
      ]
     },
     "metadata": {},
     "output_type": "display_data"
    },
    {
     "data": {
      "application/vnd.jupyter.widget-view+json": {
       "model_id": "56bd8381ead847b1b7f3488e379c074e",
       "version_major": 2,
       "version_minor": 0
      },
      "text/plain": [
       "Map:   0%|          | 0/314 [00:00<?, ? examples/s]"
      ]
     },
     "metadata": {},
     "output_type": "display_data"
    },
    {
     "name": "stderr",
     "output_type": "stream",
     "text": [
      "/tmp/ipykernel_129095/595842082.py:144: FutureWarning: `tokenizer` is deprecated and will be removed in version 5.0.0 for `Trainer.__init__`. Use `processing_class` instead.\n",
      "  trainer = Trainer(\n",
      "Detected kernel version 5.4.0, which is below the recommended minimum of 5.5.0; this can cause the process to hang. It is recommended to upgrade the kernel to the minimum version or higher.\n",
      "`use_cache=True` is incompatible with gradient checkpointing. Setting `use_cache=False`.\n"
     ]
    },
    {
     "data": {
      "text/html": [
       "\n",
       "    <div>\n",
       "      \n",
       "      <progress value='939' max='939' style='width:300px; height:20px; vertical-align: middle;'></progress>\n",
       "      [939/939 13:09, Epoch 2/3]\n",
       "    </div>\n",
       "    <table border=\"1\" class=\"dataframe\">\n",
       "  <thead>\n",
       " <tr style=\"text-align: left;\">\n",
       "      <th>Epoch</th>\n",
       "      <th>Training Loss</th>\n",
       "      <th>Validation Loss</th>\n",
       "      <th>Rouge1</th>\n",
       "      <th>Rouge2</th>\n",
       "      <th>Rougel</th>\n",
       "      <th>Rougelsum</th>\n",
       "      <th>Bleu</th>\n",
       "      <th>Bertscore Precision</th>\n",
       "      <th>Bertscore Recall</th>\n",
       "      <th>Bertscore F1</th>\n",
       "    </tr>\n",
       "  </thead>\n",
       "  <tbody>\n",
       "    <tr>\n",
       "      <td>1</td>\n",
       "      <td>No log</td>\n",
       "      <td>nan</td>\n",
       "      <td>0.403552</td>\n",
       "      <td>0.293182</td>\n",
       "      <td>0.391478</td>\n",
       "      <td>0.391383</td>\n",
       "      <td>18.725259</td>\n",
       "      <td>0.780848</td>\n",
       "      <td>0.904157</td>\n",
       "      <td>0.837381</td>\n",
       "    </tr>\n",
       "    <tr>\n",
       "      <td>2</td>\n",
       "      <td>0.709600</td>\n",
       "      <td>nan</td>\n",
       "      <td>0.467782</td>\n",
       "      <td>0.352363</td>\n",
       "      <td>0.460020</td>\n",
       "      <td>0.459717</td>\n",
       "      <td>20.114977</td>\n",
       "      <td>0.783870</td>\n",
       "      <td>0.910055</td>\n",
       "      <td>0.841600</td>\n",
       "    </tr>\n",
       "  </tbody>\n",
       "</table><p>"
      ],
      "text/plain": [
       "<IPython.core.display.HTML object>"
      ]
     },
     "metadata": {},
     "output_type": "display_data"
    },
    {
     "name": "stderr",
     "output_type": "stream",
     "text": [
      "Some weights of RobertaModel were not initialized from the model checkpoint at roberta-large and are newly initialized: ['pooler.dense.bias', 'pooler.dense.weight']\n",
      "You should probably TRAIN this model on a down-stream task to be able to use it for predictions and inference.\n"
     ]
    },
    {
     "name": "stdout",
     "output_type": "stream",
     "text": [
      "Epoch 1 - Validation loss: nan\n",
      "eval_rouge1: 0.4036\n",
      "eval_rouge2: 0.2932\n",
      "eval_rougeL: 0.3915\n",
      "eval_rougeLsum: 0.3914\n",
      "eval_bleu: 18.7253\n",
      "eval_bertscore_precision: 0.7808\n",
      "eval_bertscore_recall: 0.9042\n",
      "eval_bertscore_f1: 0.8374\n"
     ]
    },
    {
     "name": "stderr",
     "output_type": "stream",
     "text": [
      "Warning: Empty reference sentence detected; setting raw BERTScores to 0.\n",
      "Warning: Empty reference sentence detected; setting raw BERTScores to 0.\n",
      "Warning: Empty reference sentence detected; setting raw BERTScores to 0.\n"
     ]
    },
    {
     "name": "stdout",
     "output_type": "stream",
     "text": [
      "Epoch 2 - Training loss: 0.7096\n",
      "Epoch 2 - Validation loss: nan\n",
      "eval_rouge1: 0.4589\n",
      "eval_rouge2: 0.3367\n",
      "eval_rougeL: 0.4462\n",
      "eval_rougeLsum: 0.4459\n",
      "eval_bleu: 21.5817\n",
      "eval_bertscore_precision: 0.7760\n",
      "eval_bertscore_recall: 0.9094\n",
      "eval_bertscore_f1: 0.8366\n"
     ]
    },
    {
     "name": "stderr",
     "output_type": "stream",
     "text": [
      "Warning: Empty reference sentence detected; setting raw BERTScores to 0.\n",
      "Warning: Empty reference sentence detected; setting raw BERTScores to 0.\n",
      "Warning: Empty reference sentence detected; setting raw BERTScores to 0.\n"
     ]
    },
    {
     "name": "stdout",
     "output_type": "stream",
     "text": [
      "Epoch 2 - Training loss: 0.7096\n",
      "Epoch 2 - Validation loss: nan\n",
      "eval_rouge1: 0.4678\n",
      "eval_rouge2: 0.3524\n",
      "eval_rougeL: 0.4600\n",
      "eval_rougeLsum: 0.4597\n",
      "eval_bleu: 20.1150\n",
      "eval_bertscore_precision: 0.7839\n",
      "eval_bertscore_recall: 0.9101\n",
      "eval_bertscore_f1: 0.8416\n"
     ]
    },
    {
     "name": "stderr",
     "output_type": "stream",
     "text": [
      "Warning: Empty reference sentence detected; setting raw BERTScores to 0.\n",
      "Warning: Empty reference sentence detected; setting raw BERTScores to 0.\n",
      "Warning: Empty reference sentence detected; setting raw BERTScores to 0.\n"
     ]
    },
    {
     "name": "stdout",
     "output_type": "stream",
     "text": [
      "Final evaluation on test set:\n"
     ]
    },
    {
     "data": {
      "text/html": [
       "\n",
       "    <div>\n",
       "      \n",
       "      <progress value='314' max='314' style='width:300px; height:20px; vertical-align: middle;'></progress>\n",
       "      [314/314 00:05]\n",
       "    </div>\n",
       "    "
      ],
      "text/plain": [
       "<IPython.core.display.HTML object>"
      ]
     },
     "metadata": {},
     "output_type": "display_data"
    },
    {
     "name": "stdout",
     "output_type": "stream",
     "text": [
      "Epoch 2 - Validation loss: nan\n",
      "eval_rouge1: 0.4687\n",
      "eval_rouge2: 0.3498\n",
      "eval_rougeL: 0.4630\n",
      "eval_rougeLsum: 0.4628\n",
      "eval_bleu: 20.4938\n",
      "eval_bertscore_precision: 0.7945\n",
      "eval_bertscore_recall: 0.9165\n",
      "eval_bertscore_f1: 0.8505\n",
      "{'eval_loss': nan, 'eval_rouge1': 0.4687466611918398, 'eval_rouge2': 0.34983466788892903, 'eval_rougeL': 0.4629938589628926, 'eval_rougeLsum': 0.46284835103075944, 'eval_bleu': 20.493785712704124, 'eval_bertscore_precision': 0.7945005529245753, 'eval_bertscore_recall': 0.9164730196545838, 'eval_bertscore_f1': 0.8504800441538453, 'eval_runtime': 9.4989, 'eval_samples_per_second': 33.056, 'eval_steps_per_second': 33.056, 'epoch': 2.9928172386272944}\n"
     ]
    },
    {
     "name": "stderr",
     "output_type": "stream",
     "text": [
      "Warning: Empty reference sentence detected; setting raw BERTScores to 0.\n"
     ]
    }
   ],
   "source": [
    "from transformers import (\n",
    "    AutoTokenizer,\n",
    "    AutoModelForCausalLM,\n",
    "    Trainer,\n",
    "    TrainingArguments,\n",
    "    DataCollatorForSeq2Seq,\n",
    "    TrainerCallback,\n",
    ")\n",
    "from datasets import Dataset, DatasetDict\n",
    "import pandas as pd\n",
    "import evaluate\n",
    "import numpy as np\n",
    "\n",
    "# Load dataset\n",
    "df = pd.read_csv(\"RAW_Idiom_Data - Updated_Idiom_Data.csv\")\n",
    "df = df[['Actual idiom', 'Human Annotation & With descriptions']].dropna()\n",
    "df = df.rename(columns={'Actual idiom': 'input_text', 'Human Annotation & With descriptions': 'target_text'})\n",
    "\n",
    "# Split dataset\n",
    "dataset = Dataset.from_pandas(df)\n",
    "dataset = dataset.train_test_split(test_size=0.2, seed=42)\n",
    "val_test = dataset['test'].train_test_split(test_size=0.5, seed=42)\n",
    "dataset = DatasetDict({\n",
    "    'train': dataset['train'],\n",
    "    'validation': val_test['train'],\n",
    "    'test': val_test['test']\n",
    "})\n",
    "\n",
    "# Load model + tokenizer\n",
    "model_id = \"LingoIITGN/ganga-1b\"\n",
    "tokenizer = AutoTokenizer.from_pretrained(model_id)\n",
    "model = AutoModelForCausalLM.from_pretrained(model_id)\n",
    "\n",
    "if tokenizer.pad_token is None:\n",
    "    tokenizer.pad_token = tokenizer.eos_token\n",
    "\n",
    "# Enable gradient checkpointing to save memory\n",
    "model.gradient_checkpointing_enable()\n",
    "\n",
    "# Tokenization: input + target concatenated\n",
    "def tokenize_function(examples):\n",
    "    model_inputs = []\n",
    "    for inp, tgt in zip(examples[\"input_text\"], examples[\"target_text\"]):\n",
    "        prompt = f\"Translate Hindi idiom to English explanation:\\nHindi: {inp}\\nEnglish:\"\n",
    "        full = f\"{prompt} {tgt} {tokenizer.eos_token}\"\n",
    "        \n",
    "        enc = tokenizer(full, truncation=True, padding=False, max_length=64)\n",
    "        labels = enc[\"input_ids\"]\n",
    "        \n",
    "        # Mask input prompt tokens\n",
    "        prompt_len = len(tokenizer(prompt)[\"input_ids\"])\n",
    "        labels = [\n",
    "            token if idx >= prompt_len else -100\n",
    "            for idx, token in enumerate(labels)\n",
    "        ]\n",
    "        \n",
    "        enc[\"labels\"] = labels\n",
    "        model_inputs.append(enc)\n",
    "    \n",
    "    # Convert list of dicts to dict of lists\n",
    "    batch = {k: [dic[k] for dic in model_inputs] for k in model_inputs[0]}\n",
    "    return batch\n",
    "\n",
    "tokenized_datasets = dataset.map(tokenize_function, batched=True)\n",
    "\n",
    "# Use dynamic padding\n",
    "data_collator = DataCollatorForSeq2Seq(tokenizer, model=model)\n",
    "\n",
    "# Load evaluation metrics\n",
    "rouge = evaluate.load(\"rouge\")\n",
    "bleu = evaluate.load(\"sacrebleu\")\n",
    "bertscore = evaluate.load(\"bertscore\")\n",
    "\n",
    "def compute_metrics(eval_pred):\n",
    "    logits, labels = eval_pred\n",
    "    preds = np.argmax(logits, axis=-1)\n",
    "    labels = np.where(labels != -100, labels, tokenizer.pad_token_id)\n",
    "\n",
    "    decoded_preds = tokenizer.batch_decode(preds, skip_special_tokens=True)\n",
    "    decoded_labels = tokenizer.batch_decode(labels, skip_special_tokens=True)\n",
    "\n",
    "    decoded_preds = [pred.strip() for pred in decoded_preds]\n",
    "    decoded_labels = [label.strip() for label in decoded_labels]\n",
    "\n",
    "    # ROUGE\n",
    "    rouge_result = rouge.compute(predictions=decoded_preds, references=decoded_labels)\n",
    "    # BLEU\n",
    "    bleu_result = bleu.compute(predictions=decoded_preds, references=decoded_labels)\n",
    "    # BERTScore\n",
    "    bertscore_result = bertscore.compute(predictions=decoded_preds, references=decoded_labels, lang=\"en\")\n",
    "    bertscore_precision = float(np.mean(bertscore_result['precision']))\n",
    "    bertscore_recall = float(np.mean(bertscore_result['recall']))\n",
    "    bertscore_f1 = float(np.mean(bertscore_result['f1']))\n",
    "\n",
    "    return {\n",
    "        'rouge1': rouge_result['rouge1'],\n",
    "        'rouge2': rouge_result['rouge2'],\n",
    "        'rougeL': rouge_result['rougeL'],\n",
    "        'rougeLsum': rouge_result['rougeLsum'],\n",
    "        'bleu': bleu_result['score'],\n",
    "        'bertscore_precision': bertscore_precision,\n",
    "        'bertscore_recall': bertscore_recall,\n",
    "        'bertscore_f1': bertscore_f1,\n",
    "    }\n",
    "\n",
    "# Custom callback to print losses and metrics per epoch\n",
    "class EpochMetricsCallback(TrainerCallback):\n",
    "    def on_epoch_end(self, args, state, control, **kwargs):\n",
    "        # Print training loss at the end of each epoch\n",
    "        if state.log_history:\n",
    "            # Get the most recent log with 'loss'\n",
    "            for log in reversed(state.log_history):\n",
    "                if 'loss' in log:\n",
    "                    print(f\"Epoch {int(state.epoch)} - Training loss: {log['loss']:.4f}\")\n",
    "                    break\n",
    "\n",
    "    def on_evaluate(self, args, state, control, metrics=None, **kwargs):\n",
    "        # Print validation loss and metrics at the end of each evaluation (epoch)\n",
    "        if metrics is not None:\n",
    "            print(f\"Epoch {int(state.epoch)} - Validation loss: {metrics.get('eval_loss', float('nan')):.4f}\")\n",
    "            for key in ['eval_rouge1', 'eval_rouge2', 'eval_rougeL', 'eval_rougeLsum', 'eval_bleu', 'eval_bertscore_precision', 'eval_bertscore_recall', 'eval_bertscore_f1']:\n",
    "                if key in metrics:\n",
    "                    print(f\"{key}: {metrics[key]:.4f}\")\n",
    "\n",
    "# Training arguments\n",
    "training_args = TrainingArguments(\n",
    "    output_dir=\"./ganga-idiom-finetune\",\n",
    "    eval_strategy=\"epoch\",\n",
    "    save_strategy=\"epoch\",\n",
    "    learning_rate=5e-5,\n",
    "    per_device_train_batch_size=1,\n",
    "    per_device_eval_batch_size=1,\n",
    "    gradient_accumulation_steps=8,\n",
    "    num_train_epochs=3,\n",
    "    weight_decay=0.01,\n",
    "    save_total_limit=1,\n",
    "    load_best_model_at_end=True,\n",
    "    metric_for_best_model=\"rouge1\",\n",
    "    report_to=\"none\",\n",
    "    fp16=True  # Mixed precision to save memory\n",
    ")\n",
    "\n",
    "# Trainer\n",
    "trainer = Trainer(\n",
    "    model=model,\n",
    "    args=training_args,\n",
    "    train_dataset=tokenized_datasets[\"train\"],\n",
    "    eval_dataset=tokenized_datasets[\"validation\"],\n",
    "    tokenizer=tokenizer,\n",
    "    data_collator=data_collator,\n",
    "    compute_metrics=compute_metrics,\n",
    "    callbacks=[EpochMetricsCallback()]\n",
    ")\n",
    "\n",
    "# Train\n",
    "trainer.train()\n",
    "\n",
    "# Final evaluation\n",
    "print(\"Final evaluation on test set:\")\n",
    "test_results = trainer.evaluate(tokenized_datasets[\"test\"])\n",
    "print(test_results)\n"
   ]
  },
  {
   "cell_type": "code",
   "execution_count": 2,
   "id": "5da803a6-4350-4bea-9134-ac51e66335ef",
   "metadata": {},
   "outputs": [
    {
     "name": "stderr",
     "output_type": "stream",
     "text": [
      "huggingface/tokenizers: The current process just got forked, after parallelism has already been used. Disabling parallelism to avoid deadlocks...\n",
      "To disable this warning, you can either:\n",
      "\t- Avoid using `tokenizers` before the fork if possible\n",
      "\t- Explicitly set the environment variable TOKENIZERS_PARALLELISM=(true | false)\n"
     ]
    },
    {
     "name": "stdout",
     "output_type": "stream",
     "text": [
      "dgx01                     Wed Jul  2 19:04:25 2025  535.183.06\n",
      "[0] NVIDIA A100-SXM4-80GB | 59°C,  ?? % | 52486 / 81920 MB | 66076041(19050M) 66076006(21628M) 66076055(11778M)\n",
      "[1] NVIDIA A100-SXM4-80GB | 43°C,  ?? % | 31271 / 81920 MB | 66076006(9546M) 66076006(5698M) 66076006(9420M) 66076006(6490M)\n",
      "[2] NVIDIA A100-SXM4-80GB | 29°C,  ?? % |    87 / 81920 MB |\n",
      "[3] NVIDIA A100-SXM4-80GB | 30°C,  ?? % |    87 / 81920 MB |\n",
      "[4] NVIDIA A100-SXM4-80GB | 47°C,  ?? % |     1 / 81920 MB |\n",
      "[5] NVIDIA A100-SXM4-80GB | 39°C,  ?? % | 45413 / 81920 MB | sarmistha(45400M)\n",
      "[6] NVIDIA A100-SXM4-80GB | 32°C,  ?? % |     1 / 81920 MB |\n",
      "[7] NVIDIA A100-SXM4-80GB | 34°C,  ?? % | 50625 / 81920 MB | sarmistha(50612M)\n"
     ]
    }
   ],
   "source": [
    "!srun gpustat"
   ]
  },
  {
   "cell_type": "code",
   "execution_count": null,
   "id": "3e67259d-4eda-47fd-9a5b-a1269526a7bd",
   "metadata": {},
   "outputs": [],
   "source": []
  },
  {
   "cell_type": "code",
   "execution_count": null,
   "id": "202ade64-6bd5-460a-9628-582707371037",
   "metadata": {},
   "outputs": [],
   "source": []
  },
  {
   "cell_type": "code",
   "execution_count": 1,
   "id": "7f2f3dd5-1b8f-4d91-ba19-fee4ed0777c6",
   "metadata": {},
   "outputs": [
    {
     "data": {
      "application/vnd.jupyter.widget-view+json": {
       "model_id": "621f7629af524328bee75b2877b4881f",
       "version_major": 2,
       "version_minor": 0
      },
      "text/plain": [
       "Map:   0%|          | 0/2506 [00:00<?, ? examples/s]"
      ]
     },
     "metadata": {},
     "output_type": "display_data"
    },
    {
     "data": {
      "application/vnd.jupyter.widget-view+json": {
       "model_id": "c07693778d4949afa77f993d00bca1db",
       "version_major": 2,
       "version_minor": 0
      },
      "text/plain": [
       "Map:   0%|          | 0/313 [00:00<?, ? examples/s]"
      ]
     },
     "metadata": {},
     "output_type": "display_data"
    },
    {
     "data": {
      "application/vnd.jupyter.widget-view+json": {
       "model_id": "a166eeb5587341b5a01ec4adca4f079a",
       "version_major": 2,
       "version_minor": 0
      },
      "text/plain": [
       "Map:   0%|          | 0/314 [00:00<?, ? examples/s]"
      ]
     },
     "metadata": {},
     "output_type": "display_data"
    },
    {
     "name": "stderr",
     "output_type": "stream",
     "text": [
      "/tmp/ipykernel_157493/2560848050.py:144: FutureWarning: `tokenizer` is deprecated and will be removed in version 5.0.0 for `Trainer.__init__`. Use `processing_class` instead.\n",
      "  trainer = Trainer(\n",
      "Detected kernel version 5.4.0, which is below the recommended minimum of 5.5.0; this can cause the process to hang. It is recommended to upgrade the kernel to the minimum version or higher.\n",
      "`use_cache=True` is incompatible with gradient checkpointing. Setting `use_cache=False`.\n"
     ]
    },
    {
     "data": {
      "text/html": [
       "\n",
       "    <div>\n",
       "      \n",
       "      <progress value='939' max='939' style='width:300px; height:20px; vertical-align: middle;'></progress>\n",
       "      [939/939 12:58, Epoch 2/3]\n",
       "    </div>\n",
       "    <table border=\"1\" class=\"dataframe\">\n",
       "  <thead>\n",
       " <tr style=\"text-align: left;\">\n",
       "      <th>Epoch</th>\n",
       "      <th>Training Loss</th>\n",
       "      <th>Validation Loss</th>\n",
       "      <th>Rouge1</th>\n",
       "      <th>Rouge2</th>\n",
       "      <th>Rougel</th>\n",
       "      <th>Rougelsum</th>\n",
       "      <th>Bleu</th>\n",
       "      <th>Bertscore Precision</th>\n",
       "      <th>Bertscore Recall</th>\n",
       "      <th>Bertscore F1</th>\n",
       "    </tr>\n",
       "  </thead>\n",
       "  <tbody>\n",
       "    <tr>\n",
       "      <td>1</td>\n",
       "      <td>No log</td>\n",
       "      <td>nan</td>\n",
       "      <td>0.365979</td>\n",
       "      <td>0.271685</td>\n",
       "      <td>0.363301</td>\n",
       "      <td>0.363918</td>\n",
       "      <td>13.112838</td>\n",
       "      <td>0.746853</td>\n",
       "      <td>0.870564</td>\n",
       "      <td>0.803374</td>\n",
       "    </tr>\n",
       "    <tr>\n",
       "      <td>2</td>\n",
       "      <td>0.609700</td>\n",
       "      <td>nan</td>\n",
       "      <td>0.339337</td>\n",
       "      <td>0.247587</td>\n",
       "      <td>0.332086</td>\n",
       "      <td>0.332477</td>\n",
       "      <td>13.735625</td>\n",
       "      <td>0.744914</td>\n",
       "      <td>0.869613</td>\n",
       "      <td>0.801848</td>\n",
       "    </tr>\n",
       "  </tbody>\n",
       "</table><p>"
      ],
      "text/plain": [
       "<IPython.core.display.HTML object>"
      ]
     },
     "metadata": {},
     "output_type": "display_data"
    },
    {
     "name": "stderr",
     "output_type": "stream",
     "text": [
      "Some weights of RobertaModel were not initialized from the model checkpoint at roberta-large and are newly initialized: ['pooler.dense.bias', 'pooler.dense.weight']\n",
      "You should probably TRAIN this model on a down-stream task to be able to use it for predictions and inference.\n"
     ]
    },
    {
     "name": "stdout",
     "output_type": "stream",
     "text": [
      "Epoch 1 - Validation loss: nan\n",
      "eval_rouge1: 0.3660\n",
      "eval_rouge2: 0.2717\n",
      "eval_rougeL: 0.3633\n",
      "eval_rougeLsum: 0.3639\n",
      "eval_bleu: 13.1128\n",
      "eval_bertscore_precision: 0.7469\n",
      "eval_bertscore_recall: 0.8706\n",
      "eval_bertscore_f1: 0.8034\n"
     ]
    },
    {
     "name": "stderr",
     "output_type": "stream",
     "text": [
      "Warning: Empty reference sentence detected; setting raw BERTScores to 0.\n",
      "Warning: Empty reference sentence detected; setting raw BERTScores to 0.\n",
      "Warning: Empty reference sentence detected; setting raw BERTScores to 0.\n",
      "Warning: Empty reference sentence detected; setting raw BERTScores to 0.\n",
      "Warning: Empty reference sentence detected; setting raw BERTScores to 0.\n"
     ]
    },
    {
     "name": "stdout",
     "output_type": "stream",
     "text": [
      "Epoch 2 - Training loss: 0.6097\n",
      "Epoch 2 - Validation loss: nan\n",
      "eval_rouge1: 0.3395\n",
      "eval_rouge2: 0.2471\n",
      "eval_rougeL: 0.3308\n",
      "eval_rougeLsum: 0.3315\n",
      "eval_bleu: 11.4006\n",
      "eval_bertscore_precision: 0.7409\n",
      "eval_bertscore_recall: 0.8735\n",
      "eval_bertscore_f1: 0.8010\n"
     ]
    },
    {
     "name": "stderr",
     "output_type": "stream",
     "text": [
      "Warning: Empty reference sentence detected; setting raw BERTScores to 0.\n",
      "Warning: Empty reference sentence detected; setting raw BERTScores to 0.\n",
      "Warning: Empty reference sentence detected; setting raw BERTScores to 0.\n",
      "Warning: Empty reference sentence detected; setting raw BERTScores to 0.\n",
      "Warning: Empty reference sentence detected; setting raw BERTScores to 0.\n"
     ]
    },
    {
     "name": "stdout",
     "output_type": "stream",
     "text": [
      "Epoch 2 - Training loss: 0.6097\n",
      "Epoch 2 - Validation loss: nan\n",
      "eval_rouge1: 0.3393\n",
      "eval_rouge2: 0.2476\n",
      "eval_rougeL: 0.3321\n",
      "eval_rougeLsum: 0.3325\n",
      "eval_bleu: 13.7356\n",
      "eval_bertscore_precision: 0.7449\n",
      "eval_bertscore_recall: 0.8696\n",
      "eval_bertscore_f1: 0.8018\n"
     ]
    },
    {
     "name": "stderr",
     "output_type": "stream",
     "text": [
      "Warning: Empty reference sentence detected; setting raw BERTScores to 0.\n",
      "Warning: Empty reference sentence detected; setting raw BERTScores to 0.\n",
      "Warning: Empty reference sentence detected; setting raw BERTScores to 0.\n",
      "Warning: Empty reference sentence detected; setting raw BERTScores to 0.\n",
      "Warning: Empty reference sentence detected; setting raw BERTScores to 0.\n"
     ]
    },
    {
     "name": "stdout",
     "output_type": "stream",
     "text": [
      "Final evaluation on test set:\n"
     ]
    },
    {
     "data": {
      "text/html": [
       "\n",
       "    <div>\n",
       "      \n",
       "      <progress value='314' max='314' style='width:300px; height:20px; vertical-align: middle;'></progress>\n",
       "      [314/314 00:05]\n",
       "    </div>\n",
       "    "
      ],
      "text/plain": [
       "<IPython.core.display.HTML object>"
      ]
     },
     "metadata": {},
     "output_type": "display_data"
    },
    {
     "name": "stdout",
     "output_type": "stream",
     "text": [
      "Epoch 2 - Validation loss: nan\n",
      "eval_rouge1: 0.3812\n",
      "eval_rouge2: 0.2873\n",
      "eval_rougeL: 0.3780\n",
      "eval_rougeLsum: 0.3775\n",
      "eval_bleu: 14.0821\n",
      "eval_bertscore_precision: 0.7599\n",
      "eval_bertscore_recall: 0.8785\n",
      "eval_bertscore_f1: 0.8143\n",
      "{'eval_loss': nan, 'eval_rouge1': 0.38117335639642586, 'eval_rouge2': 0.2872542385039878, 'eval_rougeL': 0.37796982839550075, 'eval_rougeLsum': 0.3775317865157093, 'eval_bleu': 14.082145843521506, 'eval_bertscore_precision': 0.7598566868502623, 'eval_bertscore_recall': 0.8785201087119473, 'eval_bertscore_f1': 0.814324592708782, 'eval_runtime': 9.2421, 'eval_samples_per_second': 33.975, 'eval_steps_per_second': 33.975, 'epoch': 2.9928172386272944}\n"
     ]
    },
    {
     "name": "stderr",
     "output_type": "stream",
     "text": [
      "Warning: Empty reference sentence detected; setting raw BERTScores to 0.\n",
      "Warning: Empty reference sentence detected; setting raw BERTScores to 0.\n",
      "Warning: Empty reference sentence detected; setting raw BERTScores to 0.\n",
      "Warning: Empty reference sentence detected; setting raw BERTScores to 0.\n"
     ]
    }
   ],
   "source": [
    "from transformers import (\n",
    "    AutoTokenizer,\n",
    "    AutoModelForCausalLM,\n",
    "    Trainer,\n",
    "    TrainingArguments,\n",
    "    DataCollatorForSeq2Seq,\n",
    "    TrainerCallback,\n",
    ")\n",
    "from datasets import Dataset, DatasetDict\n",
    "import pandas as pd\n",
    "import evaluate\n",
    "import numpy as np\n",
    "\n",
    "# Load dataset\n",
    "df = pd.read_csv(\"RAW_Idiom_Data - Updated_Idiom_Data.csv\")\n",
    "df = df[['Actual idiom', 'Human Annotation & With descriptions']].dropna()\n",
    "df = df.rename(columns={'Actual idiom': 'input_text', 'Human Annotation & With descriptions': 'target_text'})\n",
    "\n",
    "# Split dataset\n",
    "dataset = Dataset.from_pandas(df)\n",
    "dataset = dataset.train_test_split(test_size=0.2, seed=42)\n",
    "val_test = dataset['test'].train_test_split(test_size=0.5, seed=42)\n",
    "dataset = DatasetDict({\n",
    "    'train': dataset['train'],\n",
    "    'validation': val_test['train'],\n",
    "    'test': val_test['test']\n",
    "})\n",
    "\n",
    "# Load model + tokenizer\n",
    "model_id = \"LingoIITGN/ganga-1b\"\n",
    "tokenizer = AutoTokenizer.from_pretrained(model_id)\n",
    "model = AutoModelForCausalLM.from_pretrained(model_id)\n",
    "\n",
    "if tokenizer.pad_token is None:\n",
    "    tokenizer.pad_token = tokenizer.eos_token\n",
    "\n",
    "# Enable gradient checkpointing to save memory\n",
    "model.gradient_checkpointing_enable()\n",
    "\n",
    "# Tokenization: input + target concatenated\n",
    "def tokenize_function(examples):\n",
    "    model_inputs = []\n",
    "    for inp, tgt in zip(examples[\"input_text\"], examples[\"target_text\"]):\n",
    "        prompt = f\"Explain the idioms to English idiomatic understandings:\\nIdiom: {inp}\\nEnglish:\"\n",
    "        full = f\"{prompt} {tgt} {tokenizer.eos_token}\"\n",
    "        \n",
    "        enc = tokenizer(full, truncation=True, padding=False, max_length=64)\n",
    "        labels = enc[\"input_ids\"]\n",
    "        \n",
    "        # Mask input prompt tokens\n",
    "        prompt_len = len(tokenizer(prompt)[\"input_ids\"])\n",
    "        labels = [\n",
    "            token if idx >= prompt_len else -100\n",
    "            for idx, token in enumerate(labels)\n",
    "        ]\n",
    "        \n",
    "        enc[\"labels\"] = labels\n",
    "        model_inputs.append(enc)\n",
    "    \n",
    "    # Convert list of dicts to dict of lists\n",
    "    batch = {k: [dic[k] for dic in model_inputs] for k in model_inputs[0]}\n",
    "    return batch\n",
    "\n",
    "tokenized_datasets = dataset.map(tokenize_function, batched=True)\n",
    "\n",
    "# Use dynamic padding\n",
    "data_collator = DataCollatorForSeq2Seq(tokenizer, model=model)\n",
    "\n",
    "# Load evaluation metrics\n",
    "rouge = evaluate.load(\"rouge\")\n",
    "bleu = evaluate.load(\"sacrebleu\")\n",
    "bertscore = evaluate.load(\"bertscore\")\n",
    "\n",
    "def compute_metrics(eval_pred):\n",
    "    logits, labels = eval_pred\n",
    "    preds = np.argmax(logits, axis=-1)\n",
    "    labels = np.where(labels != -100, labels, tokenizer.pad_token_id)\n",
    "\n",
    "    decoded_preds = tokenizer.batch_decode(preds, skip_special_tokens=True)\n",
    "    decoded_labels = tokenizer.batch_decode(labels, skip_special_tokens=True)\n",
    "\n",
    "    decoded_preds = [pred.strip() for pred in decoded_preds]\n",
    "    decoded_labels = [label.strip() for label in decoded_labels]\n",
    "\n",
    "    # ROUGE\n",
    "    rouge_result = rouge.compute(predictions=decoded_preds, references=decoded_labels)\n",
    "    # BLEU\n",
    "    bleu_result = bleu.compute(predictions=decoded_preds, references=decoded_labels)\n",
    "    # BERTScore\n",
    "    bertscore_result = bertscore.compute(predictions=decoded_preds, references=decoded_labels, lang=\"en\")\n",
    "    bertscore_precision = float(np.mean(bertscore_result['precision']))\n",
    "    bertscore_recall = float(np.mean(bertscore_result['recall']))\n",
    "    bertscore_f1 = float(np.mean(bertscore_result['f1']))\n",
    "\n",
    "    return {\n",
    "        'rouge1': rouge_result['rouge1'],\n",
    "        'rouge2': rouge_result['rouge2'],\n",
    "        'rougeL': rouge_result['rougeL'],\n",
    "        'rougeLsum': rouge_result['rougeLsum'],\n",
    "        'bleu': bleu_result['score'],\n",
    "        'bertscore_precision': bertscore_precision,\n",
    "        'bertscore_recall': bertscore_recall,\n",
    "        'bertscore_f1': bertscore_f1,\n",
    "    }\n",
    "\n",
    "# Custom callback to print losses and metrics per epoch\n",
    "class EpochMetricsCallback(TrainerCallback):\n",
    "    def on_epoch_end(self, args, state, control, **kwargs):\n",
    "        # Print training loss at the end of each epoch\n",
    "        if state.log_history:\n",
    "            # Get the most recent log with 'loss'\n",
    "            for log in reversed(state.log_history):\n",
    "                if 'loss' in log:\n",
    "                    print(f\"Epoch {int(state.epoch)} - Training loss: {log['loss']:.4f}\")\n",
    "                    break\n",
    "\n",
    "    def on_evaluate(self, args, state, control, metrics=None, **kwargs):\n",
    "        # Print validation loss and metrics at the end of each evaluation (epoch)\n",
    "        if metrics is not None:\n",
    "            print(f\"Epoch {int(state.epoch)} - Validation loss: {metrics.get('eval_loss', float('nan')):.4f}\")\n",
    "            for key in ['eval_rouge1', 'eval_rouge2', 'eval_rougeL', 'eval_rougeLsum', 'eval_bleu', 'eval_bertscore_precision', 'eval_bertscore_recall', 'eval_bertscore_f1']:\n",
    "                if key in metrics:\n",
    "                    print(f\"{key}: {metrics[key]:.4f}\")\n",
    "\n",
    "# Training arguments\n",
    "training_args = TrainingArguments(\n",
    "    output_dir=\"./ganga-idiom-finetune\",\n",
    "    eval_strategy=\"epoch\",\n",
    "    save_strategy=\"epoch\",\n",
    "    learning_rate=5e-5,\n",
    "    per_device_train_batch_size=1,\n",
    "    per_device_eval_batch_size=1,\n",
    "    gradient_accumulation_steps=8,\n",
    "    num_train_epochs=3,\n",
    "    weight_decay=0.01,\n",
    "    save_total_limit=1,\n",
    "    load_best_model_at_end=True,\n",
    "    metric_for_best_model=\"rouge1\",\n",
    "    report_to=\"none\",\n",
    "    fp16=True  # Mixed precision to save memory\n",
    ")\n",
    "\n",
    "# Trainer\n",
    "trainer = Trainer(\n",
    "    model=model,\n",
    "    args=training_args,\n",
    "    train_dataset=tokenized_datasets[\"train\"],\n",
    "    eval_dataset=tokenized_datasets[\"validation\"],\n",
    "    tokenizer=tokenizer,\n",
    "    data_collator=data_collator,\n",
    "    compute_metrics=compute_metrics,\n",
    "    callbacks=[EpochMetricsCallback()]\n",
    ")\n",
    "\n",
    "# Train\n",
    "trainer.train()\n",
    "\n",
    "# Final evaluation\n",
    "print(\"Final evaluation on test set:\")\n",
    "test_results = trainer.evaluate(tokenized_datasets[\"test\"])\n",
    "print(test_results)\n"
   ]
  },
  {
   "cell_type": "code",
   "execution_count": null,
   "id": "83f50e1b-a260-41d6-84e2-3746b9a63bd1",
   "metadata": {},
   "outputs": [],
   "source": []
  }
 ],
 "metadata": {
  "kernelspec": {
   "display_name": "Python (RAG)",
   "language": "python",
   "name": "rag"
  },
  "language_info": {
   "codemirror_mode": {
    "name": "ipython",
    "version": 3
   },
   "file_extension": ".py",
   "mimetype": "text/x-python",
   "name": "python",
   "nbconvert_exporter": "python",
   "pygments_lexer": "ipython3",
   "version": "3.11.6"
  }
 },
 "nbformat": 4,
 "nbformat_minor": 5
}
