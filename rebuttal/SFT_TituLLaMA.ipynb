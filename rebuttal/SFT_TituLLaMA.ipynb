{
 "cells": [
  {
   "cell_type": "code",
   "execution_count": 2,
   "id": "7b1ca39a-35bb-494e-81cb-b92c0793bad1",
   "metadata": {},
   "outputs": [
    {
     "data": {
      "application/vnd.jupyter.widget-view+json": {
       "model_id": "7021a32b58924152940a9ee84a72c750",
       "version_major": 2,
       "version_minor": 0
      },
      "text/plain": [
       "Loading checkpoint shards:   0%|          | 0/2 [00:00<?, ?it/s]"
      ]
     },
     "metadata": {},
     "output_type": "display_data"
    },
    {
     "data": {
      "application/vnd.jupyter.widget-view+json": {
       "model_id": "8fd9dcf8993d47c09c56cb27880cf240",
       "version_major": 2,
       "version_minor": 0
      },
      "text/plain": [
       "Map:   0%|          | 0/2506 [00:00<?, ? examples/s]"
      ]
     },
     "metadata": {},
     "output_type": "display_data"
    },
    {
     "data": {
      "application/vnd.jupyter.widget-view+json": {
       "model_id": "9cba1b1e7378465f9005470fb9a67d35",
       "version_major": 2,
       "version_minor": 0
      },
      "text/plain": [
       "Map:   0%|          | 0/313 [00:00<?, ? examples/s]"
      ]
     },
     "metadata": {},
     "output_type": "display_data"
    },
    {
     "data": {
      "application/vnd.jupyter.widget-view+json": {
       "model_id": "2275491ef92b4f788dd12259ee6dd6f6",
       "version_major": 2,
       "version_minor": 0
      },
      "text/plain": [
       "Map:   0%|          | 0/314 [00:00<?, ? examples/s]"
      ]
     },
     "metadata": {},
     "output_type": "display_data"
    },
    {
     "name": "stderr",
     "output_type": "stream",
     "text": [
      "/tmp/ipykernel_88925/756768303.py:111: FutureWarning: `tokenizer` is deprecated and will be removed in version 5.0.0 for `Trainer.__init__`. Use `processing_class` instead.\n",
      "  trainer = Trainer(\n",
      "WARNING:accelerate.utils.other:Detected kernel version 5.4.0, which is below the recommended minimum of 5.5.0; this can cause the process to hang. It is recommended to upgrade the kernel to the minimum version or higher.\n"
     ]
    },
    {
     "data": {
      "text/html": [
       "\n",
       "    <div>\n",
       "      \n",
       "      <progress value='939' max='939' style='width:300px; height:20px; vertical-align: middle;'></progress>\n",
       "      [939/939 30:46, Epoch 2/3]\n",
       "    </div>\n",
       "    <table border=\"1\" class=\"dataframe\">\n",
       "  <thead>\n",
       " <tr style=\"text-align: left;\">\n",
       "      <th>Epoch</th>\n",
       "      <th>Training Loss</th>\n",
       "      <th>Validation Loss</th>\n",
       "      <th>Rouge1</th>\n",
       "      <th>Rouge2</th>\n",
       "      <th>Rougel</th>\n",
       "      <th>Rougelsum</th>\n",
       "      <th>Bleu</th>\n",
       "    </tr>\n",
       "  </thead>\n",
       "  <tbody>\n",
       "    <tr>\n",
       "      <td>1</td>\n",
       "      <td>No log</td>\n",
       "      <td>1.823836</td>\n",
       "      <td>0.483237</td>\n",
       "      <td>0.296622</td>\n",
       "      <td>0.451231</td>\n",
       "      <td>0.451381</td>\n",
       "      <td>22.567405</td>\n",
       "    </tr>\n",
       "    <tr>\n",
       "      <td>2</td>\n",
       "      <td>1.681800</td>\n",
       "      <td>1.880378</td>\n",
       "      <td>0.548141</td>\n",
       "      <td>0.363625</td>\n",
       "      <td>0.521463</td>\n",
       "      <td>0.521355</td>\n",
       "      <td>26.036041</td>\n",
       "    </tr>\n",
       "  </tbody>\n",
       "</table><p>"
      ],
      "text/plain": [
       "<IPython.core.display.HTML object>"
      ]
     },
     "metadata": {},
     "output_type": "display_data"
    },
    {
     "name": "stderr",
     "output_type": "stream",
     "text": [
      "There were missing keys in the checkpoint model loaded: ['lm_head.weight'].\n"
     ]
    },
    {
     "name": "stdout",
     "output_type": "stream",
     "text": [
      "Final evaluation on test set:\n"
     ]
    },
    {
     "data": {
      "text/html": [
       "\n",
       "    <div>\n",
       "      \n",
       "      <progress value='314' max='314' style='width:300px; height:20px; vertical-align: middle;'></progress>\n",
       "      [314/314 00:13]\n",
       "    </div>\n",
       "    "
      ],
      "text/plain": [
       "<IPython.core.display.HTML object>"
      ]
     },
     "metadata": {},
     "output_type": "display_data"
    },
    {
     "name": "stdout",
     "output_type": "stream",
     "text": [
      "{'eval_loss': 1.8885923624038696, 'eval_rouge1': 0.5371619144459978, 'eval_rouge2': 0.35263183355313665, 'eval_rougeL': 0.5135045394391669, 'eval_rougeLsum': 0.5134159672898323, 'eval_bleu': 25.478276185541567, 'eval_runtime': 20.1156, 'eval_samples_per_second': 15.61, 'eval_steps_per_second': 15.61, 'epoch': 2.9928172386272944}\n"
     ]
    }
   ],
   "source": [
    "from transformers import (\n",
    "    AutoTokenizer,\n",
    "    AutoModelForCausalLM,\n",
    "    Trainer,\n",
    "    TrainingArguments,\n",
    "    DataCollatorForSeq2Seq\n",
    ")\n",
    "from datasets import Dataset, DatasetDict\n",
    "import pandas as pd\n",
    "import evaluate\n",
    "import numpy as np\n",
    "\n",
    "# Load dataset\n",
    "df = pd.read_csv(\"RAW_Idiom_Data - Updated_Idiom_Data.csv\")\n",
    "df = df[['Actual idiom', 'Human Annotation & With descriptions']].dropna()\n",
    "df = df.rename(columns={'Actual idiom': 'input_text', 'Human Annotation & With descriptions': 'target_text'})\n",
    "\n",
    "# Split dataset\n",
    "dataset = Dataset.from_pandas(df)\n",
    "dataset = dataset.train_test_split(test_size=0.2, seed=42)\n",
    "val_test = dataset['test'].train_test_split(test_size=0.5, seed=42)\n",
    "dataset = DatasetDict({\n",
    "    'train': dataset['train'],\n",
    "    'validation': val_test['train'],\n",
    "    'test': val_test['test']\n",
    "})\n",
    "\n",
    "# Load model + tokenizer\n",
    "model_id = \"hishab/titulm-llama-3.2-3b-v2.0\"\n",
    "tokenizer = AutoTokenizer.from_pretrained(model_id)\n",
    "model = AutoModelForCausalLM.from_pretrained(model_id)\n",
    "\n",
    "if tokenizer.pad_token is None:\n",
    "    tokenizer.pad_token = tokenizer.eos_token\n",
    "\n",
    "# Enable gradient checkpointing to save memory\n",
    "model.gradient_checkpointing_enable()\n",
    "\n",
    "# Tokenization: input + target concatenated\n",
    "def tokenize_function(examples):\n",
    "    model_inputs = []\n",
    "    for inp, tgt in zip(examples[\"input_text\"], examples[\"target_text\"]):\n",
    "        #prompt = f\"Translate Hindi idiom to English explanation:\\nHindi: {inp}\\nEnglish:\"\n",
    "        prompt = f\"Explain the idioms to English idiomatic understandings:\\nIdiom: {inp}\\nEnglish:\"\n",
    "        full = f\"{prompt} {tgt} {tokenizer.eos_token}\"\n",
    "        \n",
    "        enc = tokenizer(full, truncation=True, padding=False, max_length=64)\n",
    "        labels = enc[\"input_ids\"]\n",
    "        \n",
    "        # Mask input prompt tokens\n",
    "        prompt_len = len(tokenizer(prompt)[\"input_ids\"])\n",
    "        labels = [\n",
    "            token if idx >= prompt_len else -100\n",
    "            for idx, token in enumerate(labels)\n",
    "        ]\n",
    "        \n",
    "        enc[\"labels\"] = labels\n",
    "        model_inputs.append(enc)\n",
    "    \n",
    "    # Convert list of dicts to dict of lists\n",
    "    batch = {k: [dic[k] for dic in model_inputs] for k in model_inputs[0]}\n",
    "    return batch\n",
    "\n",
    "tokenized_datasets = dataset.map(tokenize_function, batched=True)\n",
    "\n",
    "# Use dynamic padding\n",
    "data_collator = DataCollatorForSeq2Seq(tokenizer, model=model)\n",
    "\n",
    "# Evaluation metrics\n",
    "rouge = evaluate.load(\"rouge\")\n",
    "bleu = evaluate.load(\"sacrebleu\")\n",
    "\n",
    "def compute_metrics(eval_pred):\n",
    "    logits, labels = eval_pred\n",
    "    preds = np.argmax(logits, axis=-1)\n",
    "    labels = np.where(labels != -100, labels, tokenizer.pad_token_id)\n",
    "\n",
    "    decoded_preds = tokenizer.batch_decode(preds, skip_special_tokens=True)\n",
    "    decoded_labels = tokenizer.batch_decode(labels, skip_special_tokens=True)\n",
    "\n",
    "    decoded_preds = [pred.strip() for pred in decoded_preds]\n",
    "    decoded_labels = [label.strip() for label in decoded_labels]\n",
    "\n",
    "    rouge_result = rouge.compute(predictions=decoded_preds, references=decoded_labels)\n",
    "    bleu_result = bleu.compute(predictions=decoded_preds, references=decoded_labels)\n",
    "\n",
    "    return {\n",
    "        **rouge_result,\n",
    "        'bleu': bleu_result['score']\n",
    "    }\n",
    "\n",
    "# Training arguments\n",
    "training_args = TrainingArguments(\n",
    "    output_dir=\"./bengali-idiom-finetune\",\n",
    "    eval_strategy=\"epoch\",\n",
    "    save_strategy=\"epoch\",\n",
    "    learning_rate=5e-5,\n",
    "    per_device_train_batch_size=1,\n",
    "    per_device_eval_batch_size=1,\n",
    "    gradient_accumulation_steps=8,\n",
    "    num_train_epochs=3,\n",
    "    weight_decay=0.01,\n",
    "    save_total_limit=1,\n",
    "    load_best_model_at_end=True,\n",
    "    metric_for_best_model=\"rouge1\",\n",
    "    report_to=\"none\",\n",
    "    fp16=True  # Mixed precision to save memory\n",
    ")\n",
    "\n",
    "# Trainer\n",
    "trainer = Trainer(\n",
    "    model=model,\n",
    "    args=training_args,\n",
    "    train_dataset=tokenized_datasets[\"train\"],\n",
    "    eval_dataset=tokenized_datasets[\"validation\"],\n",
    "    tokenizer=tokenizer,\n",
    "    data_collator=data_collator,\n",
    "    compute_metrics=compute_metrics\n",
    ")\n",
    "\n",
    "# Train\n",
    "trainer.train()\n",
    "\n",
    "# Final evaluation\n",
    "print(\"Final evaluation on test set:\")\n",
    "test_results = trainer.evaluate(tokenized_datasets[\"test\"])\n",
    "print(test_results)\n"
   ]
  },
  {
   "cell_type": "code",
   "execution_count": 2,
   "id": "5da803a6-4350-4bea-9134-ac51e66335ef",
   "metadata": {},
   "outputs": [
    {
     "name": "stdout",
     "output_type": "stream",
     "text": [
      "dgx01                     Wed Jul  2 19:53:48 2025  535.183.06\n",
      "[0] NVIDIA A100-SXM4-80GB | 44°C,  ?? % | 33429 / 81920 MB | 66076006(21628M) 66076055(11778M)\n",
      "[1] NVIDIA A100-SXM4-80GB | 36°C,  ?? % | 31271 / 81920 MB | 66076006(9546M) 66076006(5698M) 66076006(9420M) 66076006(6490M)\n",
      "[2] NVIDIA A100-SXM4-80GB | 29°C,  ?? % |    87 / 81920 MB |\n",
      "[3] NVIDIA A100-SXM4-80GB | 30°C,  ?? % |    87 / 81920 MB |\n",
      "[4] NVIDIA A100-SXM4-80GB | 58°C,  ?? % |  7731 / 81920 MB | kuntpong(7718M)\n",
      "[5] NVIDIA A100-SXM4-80GB | 36°C,  ?? % |     1 / 81920 MB |\n",
      "[6] NVIDIA A100-SXM4-80GB | 33°C,  ?? % |     6 / 81920 MB |\n",
      "[7] NVIDIA A100-SXM4-80GB | 33°C,  ?? % |     1 / 81920 MB |\n"
     ]
    }
   ],
   "source": [
    "!srun gpustat"
   ]
  },
  {
   "cell_type": "code",
   "execution_count": null,
   "id": "2f78dda1-9751-407d-8846-4558b3421037",
   "metadata": {},
   "outputs": [],
   "source": []
  }
 ],
 "metadata": {
  "kernelspec": {
   "display_name": "Python (RAG)",
   "language": "python",
   "name": "rag"
  },
  "language_info": {
   "codemirror_mode": {
    "name": "ipython",
    "version": 3
   },
   "file_extension": ".py",
   "mimetype": "text/x-python",
   "name": "python",
   "nbconvert_exporter": "python",
   "pygments_lexer": "ipython3",
   "version": "3.11.6"
  }
 },
 "nbformat": 4,
 "nbformat_minor": 5
}
